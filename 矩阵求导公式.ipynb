{
  "cells": [
    {
      "cell_type": "markdown",
      "metadata": {
        "collapsed": true,
        "pycharm": {
          "name": "#%% md\n"
        }
      },
      "source": "# 矩阵求导公式（及其学习主要使用与损失函数和代价函数）\n参考：[矩阵求导公式](https://blog.csdn.net/xidianliutingting/article/details/51673207)\n\n$\\frac{\\partial Ax}{\\partial x}\u003dA^T$\n\n$\\frac{\\partial Ax}{\\partial x^T}\u003dA$\n\n关于x的转置x.T求导数，x.T是行向量，那么Ax分别对x.T向量中的分量求偏导（写成一列），然后整体排成一行（同x.T是行向量）\n\n2.若A是1×n行向量，x是n×1的列向量， 有 \n\n$\\frac{\\partial Ax}{\\partial x}\u003dA^T$\n\n$\\frac{\\partial Ax}{\\partial x^T}\u003dA$\n\n3.若A是n×1列向量，x是n×1的列向量，有 \n\n$\\frac{\\partial  x^TA}{\\partial x}\u003dA$\n\n4.若A是n×n矩阵，x是n×1的列向量，有 \n\n$\\frac{\\partial  x^TAx}{\\partial x}\u003d(A^T+A)x$\n\n如果A是对称阵：\n$\\frac{\\partial  x^TAx}{\\partial x}\u003d2Ax$\n\n\n\n"
    }
  ],
  "metadata": {
    "language_info": {
      "codemirror_mode": {
        "name": "ipython",
        "version": 2
      },
      "file_extension": ".py",
      "mimetype": "text/x-python",
      "name": "python",
      "nbconvert_exporter": "python",
      "pygments_lexer": "ipython2",
      "version": "2.7.6"
    },
    "kernelspec": {
      "name": "python3",
      "language": "python",
      "display_name": "Python 3"
    }
  },
  "nbformat": 4,
  "nbformat_minor": 0
}