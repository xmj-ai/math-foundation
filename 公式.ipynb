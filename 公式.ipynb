{
  "cells": [
    {
      "cell_type": "markdown",
      "metadata": {
        "collapsed": true,
        "pycharm": {
          "name": "#%% md\n"
        }
      },
      "source": "# 数学公式表示 测试"
    },
    {
      "cell_type": "markdown",
      "source": "$\\sum_{i\u003d0}^N\\int_{a}^{b}g(t,i)\\text{d}t$\n\n$\\B(\\alpha,\\beta)$\n\n$\\Gamma(k,\\theta)$\n\n$\\Gamma(k,\\theta)$\n\n$\\N(\\mu,\\sigma^2)$\n\n$\\IGa(\\alpha,\\beta)$\n\n$\\sum_{i\u003d1}^{n}{(X_i - \\overline{X})^2}$\n\n$\\overline{θ}$\n\n$S^2_θ$\n\n$$\\sum_{i\u003d0}N\\int_{a}{b}g(t,i)\\text{d}t$$\n\n",
      "metadata": {
        "pycharm": {
          "metadata": false,
          "name": "#%% md\n",
          "is_executing": false
        }
      }
    },
    {
      "cell_type": "markdown",
      "source": "## 二项式分布\n$P(K\u003dk)\u003d\\begin{pmatrix}\n   n  \\\\\n   k \n\\end{pmatrix}p^k(1-p)^n-k$\n",
      "metadata": {
        "pycharm": {
          "metadata": false
        }
      }
    }
  ],
  "metadata": {
    "language_info": {
      "codemirror_mode": {
        "name": "ipython",
        "version": 2
      },
      "file_extension": ".py",
      "mimetype": "text/x-python",
      "name": "python",
      "nbconvert_exporter": "python",
      "pygments_lexer": "ipython2",
      "version": "2.7.6"
    },
    "kernelspec": {
      "name": "python3",
      "language": "python",
      "display_name": "Python 3"
    }
  },
  "nbformat": 4,
  "nbformat_minor": 0
}