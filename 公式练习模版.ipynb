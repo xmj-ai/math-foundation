{
  "cells": [
    {
      "cell_type": "markdown",
      "source": "描述| 描述| 数学公式语法|公式\n---:|---:|---:|---:\n行内公式| 将公式插入到本行内，符号| $公式内容$，如| $xyz$\n独行公式| 将公式插入到新的一行内，并且居中，符号| $$公式内容$$，如| $$xyz$$\n\n# 上标、下标与组合\n描述| 数学公式语法| 公式\n---:|---:|---:\n上标符号，符号| ^，如| $x^4$\n下标符号，符号| _，如| $x_1$\n组合符号，符号| {}，如| ${16}_{8}O{2+}_{2}$\n\n# 汉字、字体与格式\n描述| 数学公式语法| 公式\n-|-|-\n汉字形式，符号| \\mbox{}，如| $V_{\\mbox{初始}}$\n字体控制，符号| \\displaystyle，如| $\\displaystyle \\frac{x+y}{y+z}$\n下划线符号，符号| \\underline，如| $\\underline{x+y}$\n标签，符号|\\tag{数字}，如| $\\tag{11}$\n上大括号，符号| \\overbrace{算式}，如| $\\overbrace{a+b+c+d}^{2.0}$\n下大括号，符号| \\underbrace{算式}，如| $a+\\underbrace{b+c}_{1.0}+d$\n上位符号，符号| \\stacrel{上位符号}{基位符号}，如| $\\vec{x}\\stackrel{\\mathrm{def}}{\u003d}{x_1,\\dots,x_n}$\n\n# 占位符\n描述| 数学公式语法| 公式|测试\n-|-|-|-\n两个quad空格，符号| \\qquad，如| $x \\qquad y$|$x \\qquad y$\nquad空格，符号| \\quad，如| $x \\quad y$|\n大空格，符号\\，如| $x \\  y$|\n中空格，符号\\:，如| $x : y$|\n小空格，符号\\,，如| $x , y$|\n没有空格，符号``，如| $xy$|\n紧贴，符号\\!，如| $x ! y$|\n\n# 定界符与组合\n描述| 数学公式语法| 公式\n-|-|-\n括号，符号| （）\\big(\\big) \\Big(\\Big) \\bigg(\\bigg) \\Bigg(\\Bigg)，如| $（）\\big(\\big) \\Big(\\Big) \\bigg(\\bigg) \\Bigg(\\Bigg)$\n中括号，符号| []，如| $[x+y]$\n大括号，符号| \\{ \\}，如| ${x+y}$\n自适应括号，符号| \\left \\right，如| $\\left(x\\right)$，$\\left(x{yz}\\right)$\n组合公式，符号| {上位公式 \\choose 下位公式}，如| ${n+1 \\choose k}\u003d{n \\choose k}+{n \\choose k-1}$\n组合公式，符号| {上位公式 \\atop 下位公式}，如| $\\sum_{k_0,k_1,\\ldots\u003e0 \\atop k_0+k_1+\\cdots\u003dn}A_{k_0}A_{k_1}\\cdots$\n\n# 四则运算\n描述| 数学公式语法| 公式\n-|-|-\n加法运算，符号| +，如| $x+y\u003dz$\n减法运算，符号| -，如| $x-y\u003dz$\n加减运算，符号| \\pm，如| $x \\pm y\u003dz$\n减甲运算，符号| \\mp，如| $x \\mp y\u003dz$\n乘法运算，符号| \\times，如| $x \\times y\u003dz$\n点乘运算，符号| \\cdot，如| $x \\cdot y\u003dz$\n星乘运算，符号| \\ast，如| $x \\ast y\u003dz$\n除法运算，符号| \\div，如| $x \\div y\u003dz$\n斜法运算，符号| /，如| $x/y\u003dz$\n分式表示，符号| \\frac{分子}{分母}，如| $\\frac{x+y}{y+z}$\n分式表示，符号| {分子} \\voer {分母}，如| ${x+y} \\over {y+z}$\n绝对值表示，符号| ||，如| $|x+y|$\n\n# 高级运算\n描述| 数学公式语法| 公式\n-|-|-\n平均数运算，符号| \\overline{算式}，如| $\\overline{xyz}$\n开二次方运算，符号| \\sqrt，如| $\\sqrt x$\n开方运算，符号| \\sqrt[开方数]{被开方数}，如| $\\sqrt[3]{x+y}$\n对数运算，符号| \\log，如| $\\log(x)$\n极限运算，符号| \\lim，如| $\\lim^{x \\to \\infty}_{y \\to 0}{\\frac{x}{y}}$\n极限运算，符号| \\displaystyle \\lim，如| $\\displaystyle \\lim^{x \\to \\infty}_{y \\to 0}{\\frac{x}{y}}$\n求和运算，符号| \\sum，如| $\\sum^{x \\to \\infty}_{y \\to 0}{\\frac{x}{y}}$\n求和运算，符号| \\displaystyle \\sum，如| $\\displaystyle \\sum^{x \\to \\infty}_{y \\to 0}{\\frac{x}{y}}$\n积分运算，符号| \\int，如| $\\int^{\\infty}_{0}{xdx}$\n积分运算，符号| \\displaystyle \\int，如| $\\displaystyle \\int^{\\infty}_{0}{xdx}$\n微分运算，符号| \\partial，如| $\\frac{\\partial x}{\\partial y}$\n矩阵表示，符号| \\begin{matrix} \\end{matrix}，如| $\\left[ \\begin{matrix} 1 \u00262 \u0026\\cdots \u00264\\5 \u00266 \u0026\\cdots \u00268\\\\vdots \u0026\\vdots \u0026\\ddots \u0026\\vdots\\13 \u002614 \u0026\\cdots \u002616\\end{matrix} \\right]$\n\n# 逻辑运算\n描述| 数学公式语法| 公式\n-|-|-\n等于运算，符号| \u003d，如| $x+y\u003dz$\n大于运算，符号| \u003e，如| $x+y\u003ez$\n小于运算，符号| \u003c，如| $x+y\u003cz$\n大于等于运算，符号| \\geq，如| $x+y \\geq z$\n小于等于运算，符号| \\leq，如| $x+y \\leq z$\n不等于运算，符号| \\neq，如| $x+y \\neq z$\n不大于等于运算，符号| \\ngeq，如| $x+y \\ngeq z$\n不大于等于运算，符号| \\not\\geq，如| $x+y \\not\\geq z$\n不小于等于运算，符号| \\nleq，如| $x+y \\nleq z$\n不小于等于运算，符号| \\not\\leq，如| $x+y \\not\\leq z$\n约等于运算，符号| \\approx，如| $x+y \\approx z$\n恒定等于运算，符号| \\equiv，如| $x+y \\equiv z$\n\n# 集合运算\n描述| 数学公式语法| 公式\n-|-|-\n属于运算，符号| \\in，如| $x \\in y$\n不属于运算，符号| \\notin，如| $x \\notin y$\n不属于运算，符号| \\not\\in，如| $x \\not\\in y$\n子集运算，符号| \\subset，如| $x \\subset y$\n子集运算，符号| \\supset，如| $x \\supset y$\n真子集运算，符号| \\subseteq，如| $x \\subseteq y$\n非真子集运算，符号| \\subsetneq，如| $x \\subsetneq y$\n真子集运算，符号| \\supseteq，如| $x \\supseteq y$\n非真子集运算，符号| \\supsetneq，如| $x \\supsetneq y$\n非子集运算，符号| \\not\\subset，如| $x \\not\\subset y$\n非子集运算，符号| \\not\\supset，如| $x \\not\\supset y$\n并集运算，符号| \\cup，如| $x \\cup y$\n交集运算，符号| \\cap，如| $x \\cap y$\n差集运算，符号| \\setminus，如| $x \\setminus y$\n同或运算，符号| \\bigodot，如| $x \\bigodot y$\n同与运算，符号| \\bigotimes，如| $x \\bigotimes y$\n实数集合，符号| \\mathbb{R}，如| \\mathbb{R}\n自然数集合，符号| \\mathbb{Z}，如| \\mathbb{Z}\n空集，符号| \\emptyset，如| $\\emptyset$\n无穷，符号| \\infty，如| $\\infty$\n虚数，符号| \\imath，如| $\\imath$\n虚数，符号| \\jmath，如| $\\jmath$\n数学符号，符号\\hat{a}，如| $\\hat{a}$\n数学符号，符号\\check{a}，如| $\\check{a}$\n数学符号，符号\\breve{a}，如| $\\breve{a}$\n数学符号，符号\\tilde{a}，如| $\\tilde{a}$\n数学符号，符号\\bar{a}，如| $\\bar{a}$\n矢量符号，符号\\vec{a}，如| $\\vec{a}$\n数学符号，符号\\acute{a}，如| $\\acute{a}$\n数学符号，符号\\grave{a}，如| $\\grave{a}$\n数学符号，符号\\mathring{a}，如| $\\mathring{a}$\n一阶导数符号，符号\\dot{a}，如| $\\dot{a}$\n二阶导数符号，符号\\ddot{a}，如| $\\ddot{a}$\n上箭头，符号| \\uparrow，如| $\\uparrow$\n上箭头，符号| \\Uparrow，如| $\\Uparrow$\n下箭头，符号| \\downarrow，如| $\\downarrow$\n下箭头，符号| \\Downarrow，如| $\\Downarrow$\n左箭头，符号| \\leftarrow，如| $\\leftarrow$\n左箭头，符号| \\Leftarrow，如| $\\Leftarrow$\n右箭头，符号| \\rightarrow，如| $\\rightarrow$\n右箭头，符号| \\Rightarrow，如| $\\Rightarrow$\n底端对齐的省略号，符号| \\ldots，如| $1,2,\\ldots,n$\n中线对齐的省略号，符号| \\cdots，如| $x_1^2 + x_2^2 + \\cdots + x_n^2$\n竖直对齐的省略号，符号| \\vdots，如| $\\vdots$\n斜对齐的省略号，符号| \\ddots，如| $\\ddots$\n\n# 希腊字母\n\n字母|实现|字母|实现|字母|实现\n-|-|-|-|-|-\n$\\alpha$|\\alpha||||\n",
      "metadata": {
        "pycharm": {
          "metadata": false
        }
      }
    }
  ],
  "metadata": {
    "language_info": {
      "codemirror_mode": {
        "name": "ipython",
        "version": 2
      },
      "file_extension": ".py",
      "mimetype": "text/x-python",
      "name": "python",
      "nbconvert_exporter": "python",
      "pygments_lexer": "ipython2",
      "version": "2.7.6"
    },
    "kernelspec": {
      "name": "python3",
      "language": "python",
      "display_name": "Python 3"
    },
    "stem_cell": {
      "cell_type": "raw",
      "source": "",
      "metadata": {
        "pycharm": {
          "metadata": false
        }
      }
    }
  },
  "nbformat": 4,
  "nbformat_minor": 0
}