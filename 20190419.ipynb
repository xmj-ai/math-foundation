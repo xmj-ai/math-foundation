{
  "cells": [
    {
      "cell_type": "markdown",
      "metadata": {
        "collapsed": true,
        "pycharm": {
          "name": "#%% md\n"
        }
      },
      "source": "# 希腊字母\n\n大写语法|公式|小写语法|公式\n-|-|-|-\n$A$|A|$\\alpha$|\\alpha\n$B$|B|$\\beta$|\\beta\n$\\Gamma$|\\Gamma|$\\gamma$|\\gamma\n$\\Delta$|\\Delta|$\\delta$|\\delta\n$E$|E|$\\epsilon$|\\epsilon\n$Z$|Z|$$|\n$$||$$|\n$$||$$|\n$$||$$|\n$$||$$|\n"
    }
  ],
  "metadata": {
    "language_info": {
      "codemirror_mode": {
        "name": "ipython",
        "version": 2
      },
      "file_extension": ".py",
      "mimetype": "text/x-python",
      "name": "python",
      "nbconvert_exporter": "python",
      "pygments_lexer": "ipython2",
      "version": "2.7.6"
    },
    "kernelspec": {
      "name": "python3",
      "language": "python",
      "display_name": "Python 3"
    }
  },
  "nbformat": 4,
  "nbformat_minor": 0
}